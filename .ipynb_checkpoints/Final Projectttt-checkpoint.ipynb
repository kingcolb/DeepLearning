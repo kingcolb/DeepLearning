{
 "cells": [
  {
   "cell_type": "markdown",
   "metadata": {},
   "source": [
    "# Gender Classification Neural Network\n"
   ]
  },
  {
   "cell_type": "markdown",
   "metadata": {},
   "source": [
    "## 1 - Packages"
   ]
  },
  {
   "cell_type": "code",
   "execution_count": 2,
   "metadata": {},
   "outputs": [],
   "source": [
    "import numpy as np\n",
    "\n",
    "\n",
    "import matplotlib.pyplot as plt\n",
    "from dnn_app_utils_v3 import *\n",
    "import random\n",
    "\n",
    "np.random.seed(1)\n"
   ]
  },
  {
   "cell_type": "markdown",
   "metadata": {
    "collapsed": true
   },
   "source": [
    "## 2 - Initialization\n",
    "\n",
    "All of our images have been saved into a h5-file. Let's read the data from the h5 file and save it into train, test and dev variables."
   ]
  },
  {
   "cell_type": "code",
   "execution_count": 3,
   "metadata": {
    "scrolled": true
   },
   "outputs": [
    {
     "name": "stdout",
     "output_type": "stream",
     "text": [
      "SIZE OF EACH IMAGE(80, 114, 3)\n",
      "The train set has 926 images.\n",
      "The test set has 199 images.\n",
      "The dev set has 84 images.\n"
     ]
    }
   ],
   "source": [
    "    \n",
    "train_x, train_y, test_x, test_y, dev_x, dev_y= load_data()\n",
    "print(\"SIZE OF EACH IMAGE\" + str(train_x[2].shape))\n",
    "\n",
    "print(\"The train set has \" + str(train_x.shape[0]) + \" images.\")\n",
    "\n",
    "print(\"The test set has \"  + str(test_x.shape[0]) + \" images.\")\n",
    "\n",
    "print(\"The dev set has \" + str(dev_x.shape[0]) + \" images.\")\n"
   ]
  },
  {
   "cell_type": "markdown",
   "metadata": {},
   "source": [
    "#### Run the code below to see the tenth picture from the training set!"
   ]
  },
  {
   "cell_type": "code",
   "execution_count": 4,
   "metadata": {
    "scrolled": false
   },
   "outputs": [
    {
     "data": {
      "text/plain": [
       "<matplotlib.image.AxesImage at 0x7f691b981b90>"
      ]
     },
     "execution_count": 4,
     "metadata": {},
     "output_type": "execute_result"
    },
    {
     "data": {
      "image/png": "[encoded data removed]",
      "text/plain": [
       "<Figure size 432x288 with 1 Axes>"
      ]
     },
     "metadata": {
      "needs_background": "light"
     },
     "output_type": "display_data"
    }
   ],
   "source": [
    "plt.imshow(dev_x[10].astype('int'))"
   ]
  },
  {
   "cell_type": "markdown",
   "metadata": {},
   "source": [
    "#### Now let's reshape the dev, train and test sets so that each column represents one whole image. After this, let's standardize all pixel values to be between 0 and 1. "
   ]
  },
  {
   "cell_type": "code",
   "execution_count": 5,
   "metadata": {},
   "outputs": [
    {
     "name": "stdout",
     "output_type": "stream",
     "text": [
      "The shape of the train set is: (27360, 926)\n",
      "The shape of the test set is: (27360, 199)\n",
      "The shape of the dev set is: (27360, 84)\n"
     ]
    }
   ],
   "source": [
    "if len(train_x.shape) > 2:\n",
    "    train_x_flatten = train_x.reshape(train_x.shape[0], -1).T  \n",
    "    test_x_flatten = test_x.reshape(test_x.shape[0], -1).T\n",
    "    dev_x_flatten = dev_x.reshape(dev_x.shape[0], -1).T\n",
    "\n",
    "    # Standardize data to have feature values between 0 and 1.\n",
    "    train_x = train_x_flatten/255.\n",
    "    test_x = test_x_flatten/255.\n",
    "    dev_x = dev_x_flatten/255\n",
    "\n",
    "print(\"The shape of the train set is: \" + str(train_x.shape))\n",
    "print(\"The shape of the test set is: \" + str(test_x.shape))\n",
    "print(\"The shape of the dev set is: \" + str(dev_x.shape))\n",
    "   \n"
   ]
  },
  {
   "cell_type": "markdown",
   "metadata": {
    "collapsed": true
   },
   "source": [
    "## 3 - The Neural Network\n",
    " \n",
    "First, we initialize our network. \n",
    "We start by defining a network architecture of the following shape:  \n",
    "\n",
    "- Input layer: 27360 neurons\n",
    "- 1st layer: 20 neurons\n",
    "- 2nd layer: 7 neurons\n",
    "- 3rd layer: 5 neurons\n",
    "- Output layer: 1 neuron\n"
   ]
  },
  {
   "cell_type": "code",
   "execution_count": 6,
   "metadata": {},
   "outputs": [],
   "source": [
    "layers_dims = [27360, 20, 7, 5, 1]"
   ]
  },
  {
   "cell_type": "markdown",
   "metadata": {},
   "source": [
    "Next, we define a function which trains the neural network. It is the same one we have used in class, except it takes an additional DEV set as input and counts the loss every 100th iteration."
   ]
  },
  {
   "cell_type": "code",
   "execution_count": 7,
   "metadata": {},
   "outputs": [],
   "source": [
    "def L_layer_model(X, Y, DEV, layers_dims, learning_rate = 0.0075, num_iterations = 3000):\n",
    "\n",
    "    print(\"Working with network structure: \" + str(layers_dims))\n",
    "    print(\"Learning rate: \" + str(learning_rate))\n",
    "    print(\"Number of iterations: \" + str(num_iterations))\n",
    "    \"\"\"\n",
    "    Implements a L-layer neural network: [LINEAR->RELU]*(L-1)->LINEAR->SIGMOID.\n",
    "    \n",
    "    Arguments:\n",
    "    X -- data, numpy array of shape (number of examples, num_px * num_px * 3)\n",
    "    Y -- true \"label\" vector (containing 0 if cat, 1 if non-cat), of shape (1, number of examples)\n",
    "    layers_dims -- list containing the input size and each layer size, of length (number of layers + 1).\n",
    "    learning_rate -- learning rate of the gradient descent update rule\n",
    "    num_iterations -- number of iterations of the optimization loop\n",
    "    print_cost -- if True, it prints the cost every 100 steps\n",
    "    \n",
    "    Returns:\n",
    "    parameters -- parameters learnt by the model. They can then be used to predict.\n",
    "    \"\"\"\n",
    "\n",
    "    np.random.seed(1)\n",
    "    costs = []                         # keep track of cost\n",
    "    \n",
    "    # Parameters initialization. (≈ 1 line of code)\n",
    "    ### START CODE HERE ##\n",
    "    parameters = initialize_parameters_deep(layers_dims)\n",
    "    ### END CODE HERE ###\n",
    "    # Loop (gradient descent)\n",
    "    for i in range(0, num_iterations):\n",
    "\n",
    "        # Forward propagation: [LINEAR -> RELU]*(L-1) -> LINEAR -> SIGMOID.\n",
    "        ### START CODE HERE ### (≈ 1 line of code)\n",
    "        \n",
    "        AL, caches = L_model_forward(X, parameters)\n",
    "        ### END CODE HERE ###\n",
    "        \n",
    "        # Compute cost.\n",
    "        ### START CODE HERE ### (≈ 1 line of code)\n",
    "        cost = compute_cost(AL, Y)\n",
    "        ### END CODE HERE ###\n",
    "    \n",
    "        # Backward propagation.\n",
    "        \n",
    "        ### START CODE HERE ### (≈ 1 line of code)\n",
    "        grads = L_model_backward(AL, Y, caches)\n",
    "        ### END CODE HERE ###\n",
    "\n",
    "        # Update parameters.\n",
    "        ### START CODE HERE ### (≈ 1 line of code)\n",
    "        parameters = update_parameters(parameters, grads, learning_rate)\n",
    "        ### END CODE HERE ###\n",
    "                \n",
    "        # Print the cost every 100 training example\n",
    "        if i % 100 == 0:\n",
    "            print (\"Cost after iteration %i: %f\" %(i, cost))\n",
    "            dev_AL, caches = L_model_forward(DEV[\"x\"], parameters)\n",
    "            devcost = compute_cost(dev_AL, DEV[\"y\"])\n",
    "            print(\"Dev cost afer iteration %i: %f\" %(i, devcost))\n",
    "        if i % 100 == 0:\n",
    "            costs.append(cost)\n",
    "      \n",
    "            \n",
    "            \n",
    "    # plot the cost\n",
    "    plt.plot(np.squeeze(costs))\n",
    "    plt.ylabel('cost')\n",
    "    plt.xlabel('iterations (per tens)')\n",
    "    plt.title(\"Learning rate =\" + str(learning_rate))\n",
    " \n",
    "    \n",
    "    return parameters"
   ]
  },
  {
   "cell_type": "markdown",
   "metadata": {},
   "source": [
    "Now, we are ready to train the network!\n",
    "\n",
    "Let's start with parameters: \n",
    "- num_iterations: 2500\n",
    "- learning_rate: 0.0075\n",
    "\n",
    "###### Run the code below if you want to see the results. It takes a while; if you want to skip it, just look at the results below."
   ]
  },
  {
   "cell_type": "code",
   "execution_count": 14,
   "metadata": {},
   "outputs": [
    {
     "name": "stdout",
     "output_type": "stream",
     "text": [
      "Working with network structure: [27360, 30, 18, 15, 7, 5, 1]\n",
      "Learning rate: 0.009\n",
      "Number of iterations: 2500\n",
      "Cost after iteration 0: 0.694830\n",
      "Dev cost afer iteration 0: 0.660929\n",
      "Cost after iteration 100: 0.574020\n",
      "Dev cost afer iteration 100: 0.595581\n",
      "Cost after iteration 200: 0.556104\n",
      "Dev cost afer iteration 200: 0.613799\n",
      "Cost after iteration 300: 0.578502\n",
      "Dev cost afer iteration 300: 0.571232\n",
      "Cost after iteration 400: 0.498395\n",
      "Dev cost afer iteration 400: 0.512364\n",
      "Cost after iteration 500: 0.565365\n",
      "Dev cost afer iteration 500: 0.584831\n",
      "Cost after iteration 600: 0.533699\n",
      "Dev cost afer iteration 600: 0.462784\n",
      "Cost after iteration 700: 0.535624\n",
      "Dev cost afer iteration 700: 0.523367\n",
      "Cost after iteration 800: 0.494731\n",
      "Dev cost afer iteration 800: 0.651876\n",
      "Cost after iteration 900: 0.547957\n",
      "Dev cost afer iteration 900: 0.592790\n",
      "Cost after iteration 1000: 0.543605\n",
      "Dev cost afer iteration 1000: 0.590666\n",
      "Cost after iteration 1100: 0.563740\n",
      "Dev cost afer iteration 1100: 0.625303\n",
      "Cost after iteration 1200: 0.486142\n",
      "Dev cost afer iteration 1200: 0.354424\n",
      "Cost after iteration 1300: 0.379907\n",
      "Dev cost afer iteration 1300: 0.331736\n",
      "Cost after iteration 1400: 0.527145\n",
      "Dev cost afer iteration 1400: 0.494120\n",
      "Cost after iteration 1500: 0.425331\n",
      "Dev cost afer iteration 1500: 0.705188\n",
      "Cost after iteration 1600: 0.367466\n",
      "Dev cost afer iteration 1600: 0.501308\n",
      "Cost after iteration 1700: 0.328530\n",
      "Dev cost afer iteration 1700: 0.339939\n",
      "Cost after iteration 1800: 0.313621\n",
      "Dev cost afer iteration 1800: 0.324745\n",
      "Cost after iteration 1900: 0.323564\n",
      "Dev cost afer iteration 1900: 0.428354\n",
      "Cost after iteration 2000: 0.311858\n",
      "Dev cost afer iteration 2000: 0.445271\n",
      "Cost after iteration 2100: 0.520835\n",
      "Dev cost afer iteration 2100: 0.347849\n",
      "Cost after iteration 2200: 0.381038\n",
      "Dev cost afer iteration 2200: 0.281213\n",
      "Cost after iteration 2300: 0.285607\n",
      "Dev cost afer iteration 2300: 0.543377\n",
      "Cost after iteration 2400: 0.268846\n",
      "Dev cost afer iteration 2400: 0.502471\n",
      "Predicting train set....\n",
      "Accuracy: 0.915766738660907\n",
      "\n",
      "Predicting test set....\n",
      "Accuracy: 0.8643216080402012\n",
      "\n",
      "Predicting dev set....\n",
      "Accuracy: 0.9285714285714284\n"
     ]
    },
    {
     "data": {
      "image/png": "[encoded data removed]",
      "text/plain": [
       "<Figure size 432x288 with 1 Axes>"
      ]
     },
     "metadata": {
      "needs_background": "light"
     },
     "output_type": "display_data"
    }
   ],
   "source": [
    "parameters = L_layer_model(train_x, train_y, {\"x\": dev_x, \"y\": dev_y} , layers_dims, learning_rate=0.009, num_iterations = 2500)\n",
    "\n",
    "print(\"Predicting train set....\")\n",
    "predictions_train = predict(train_x, train_y, parameters)\n",
    "\n",
    "print(\"\\nPredicting test set....\")\n",
    "predictions_test = predict(test_x, test_y, parameters)\n",
    "\n",
    "print(\"\\nPredicting dev set....\")\n",
    "predictions_dev = predict(dev_x, dev_y, parameters)\n",
    "\n"
   ]
  },
  {
   "cell_type": "markdown",
   "metadata": {},
   "source": [
    "### Results: \n",
    "After the last printed iteration (2400), we see that: <br />\n",
    "\n",
    "- Train accuracy is 0.91792656587473\n",
    "- Test accuracy is 0.8793969849246233\n",
    "- Dev accuracy is 0.9404761904761902\n",
    "\n"
   ]
  },
  {
   "cell_type": "markdown",
   "metadata": {},
   "source": [
    "## 4 - Improving the Results"
   ]
  },
  {
   "cell_type": "markdown",
   "metadata": {},
   "source": [
    "#### Updating the number of iterations\n",
    "We have relatively high bias. The test-set error is about 12%. Let's try to lower the bias by training longer."
   ]
  },
  {
   "cell_type": "code",
   "execution_count": 9,
   "metadata": {},
   "outputs": [
    {
     "name": "stdout",
     "output_type": "stream",
     "text": [
      "Working with network structure: [27360, 20, 7, 5, 1]\n",
      "Learning rate: 0.0075\n",
      "Number of iterations: 3500\n",
      "Cost after iteration 0: 0.694811\n",
      "Dev cost afer iteration 0: 0.751008\n",
      "Cost after iteration 100: 0.551637\n",
      "Dev cost afer iteration 100: 0.498840\n",
      "Cost after iteration 200: 0.664153\n",
      "Dev cost afer iteration 200: 0.467998\n",
      "Cost after iteration 300: 0.456221\n",
      "Dev cost afer iteration 300: 0.414191\n",
      "Cost after iteration 400: 0.451040\n",
      "Dev cost afer iteration 400: 0.592514\n",
      "Cost after iteration 500: 0.441465\n",
      "Dev cost afer iteration 500: 0.683876\n",
      "Cost after iteration 600: 0.419656\n",
      "Dev cost afer iteration 600: 0.644170\n",
      "Cost after iteration 700: 0.398792\n",
      "Dev cost afer iteration 700: 0.523123\n",
      "Cost after iteration 800: 0.385505\n",
      "Dev cost afer iteration 800: 0.536329\n",
      "Cost after iteration 900: 0.375651\n",
      "Dev cost afer iteration 900: 0.549603\n",
      "Cost after iteration 1000: 0.376681\n",
      "Dev cost afer iteration 1000: 0.544114\n",
      "Cost after iteration 1100: 0.357831\n",
      "Dev cost afer iteration 1100: 0.513470\n",
      "Cost after iteration 1200: 0.347067\n",
      "Dev cost afer iteration 1200: 0.537396\n",
      "Cost after iteration 1300: 0.349383\n",
      "Dev cost afer iteration 1300: 0.570464\n",
      "Cost after iteration 1400: 0.342506\n",
      "Dev cost afer iteration 1400: 0.589129\n",
      "Cost after iteration 1500: 0.299568\n",
      "Dev cost afer iteration 1500: 0.492776\n",
      "Cost after iteration 1600: 0.293203\n",
      "Dev cost afer iteration 1600: 0.510547\n",
      "Cost after iteration 1700: 0.270230\n",
      "Dev cost afer iteration 1700: 0.501469\n",
      "Cost after iteration 1800: 0.313197\n",
      "Dev cost afer iteration 1800: 0.611529\n",
      "Cost after iteration 1900: 0.261374\n",
      "Dev cost afer iteration 1900: 0.491143\n",
      "Cost after iteration 2000: 0.244953\n",
      "Dev cost afer iteration 2000: 0.506134\n",
      "Cost after iteration 2100: 0.260750\n",
      "Dev cost afer iteration 2100: 0.549766\n",
      "Cost after iteration 2200: 0.253689\n",
      "Dev cost afer iteration 2200: 0.515391\n",
      "Cost after iteration 2300: 0.213415\n",
      "Dev cost afer iteration 2300: 0.436264\n",
      "Cost after iteration 2400: 0.202331\n",
      "Dev cost afer iteration 2400: 0.454768\n",
      "Cost after iteration 2500: 0.235971\n",
      "Dev cost afer iteration 2500: 0.542477\n",
      "Cost after iteration 2600: 0.304819\n",
      "Dev cost afer iteration 2600: 0.764117\n",
      "Cost after iteration 2700: 0.416409\n",
      "Dev cost afer iteration 2700: 0.534076\n",
      "Cost after iteration 2800: 0.202094\n",
      "Dev cost afer iteration 2800: 0.524148\n",
      "Cost after iteration 2900: 0.443427\n",
      "Dev cost afer iteration 2900: 0.452673\n",
      "Cost after iteration 3000: 0.157699\n",
      "Dev cost afer iteration 3000: 0.314473\n",
      "Cost after iteration 3100: 0.387026\n",
      "Dev cost afer iteration 3100: 1.374992\n",
      "Cost after iteration 3200: 0.139110\n",
      "Dev cost afer iteration 3200: 0.313582\n",
      "Cost after iteration 3300: 0.151646\n",
      "Dev cost afer iteration 3300: 0.285591\n",
      "Cost after iteration 3400: 0.350031\n",
      "Dev cost afer iteration 3400: 1.330467\n",
      "Predicting train set....\n",
      "Accuracy: 0.9265658747300215\n",
      "\n",
      "Predicting test set....\n",
      "Accuracy: 0.8793969849246233\n",
      "\n",
      "Predicting dev set....\n",
      "Accuracy: 0.8928571428571426\n"
     ]
    },
    {
     "data": {
      "image/png": "[encoded data removed]",
      "text/plain": [
       "<Figure size 432x288 with 1 Axes>"
      ]
     },
     "metadata": {
      "needs_background": "light"
     },
     "output_type": "display_data"
    }
   ],
   "source": [
    "parameters = L_layer_model(train_x, train_y, {\"x\": dev_x, \"y\": dev_y} , layers_dims, learning_rate = 0.0075, num_iterations = 3500)\n",
    "\n",
    "print(\"Predicting train set....\")\n",
    "predictions_train = predict(train_x, train_y, parameters)\n",
    "\n",
    "print(\"\\nPredicting test set....\")\n",
    "predictions_test = predict(test_x, test_y, parameters)\n",
    "\n",
    "print(\"\\nPredicting dev set....\")\n",
    "predictions_dev = predict(dev_x, dev_y, parameters)\n"
   ]
  },
  {
   "cell_type": "markdown",
   "metadata": {},
   "source": [
    "#### Updating the learning rate\n",
    "As we can see, the cost function started to swing. Let's use a smaller learning rate (0.005)."
   ]
  },
  {
   "cell_type": "code",
   "execution_count": 12,
   "metadata": {},
   "outputs": [
    {
     "name": "stdout",
     "output_type": "stream",
     "text": [
      "Working with network structure: [27360, 20, 7, 5, 1]\n",
      "Learning rate: 0.003\n",
      "Number of iterations: 3000\n",
      "Cost after iteration 0: 0.694811\n",
      "Dev cost afer iteration 0: 0.686038\n",
      "Cost after iteration 100: 0.553835\n",
      "Dev cost afer iteration 100: 0.499166\n",
      "Cost after iteration 200: 0.516050\n",
      "Dev cost afer iteration 200: 0.432098\n",
      "Cost after iteration 300: 0.490047\n",
      "Dev cost afer iteration 300: 0.395077\n",
      "Cost after iteration 400: 0.473101\n",
      "Dev cost afer iteration 400: 0.368610\n",
      "Cost after iteration 500: 0.457578\n",
      "Dev cost afer iteration 500: 0.349759\n",
      "Cost after iteration 600: 0.444141\n",
      "Dev cost afer iteration 600: 0.335860\n",
      "Cost after iteration 700: 0.428085\n",
      "Dev cost afer iteration 700: 0.324737\n",
      "Cost after iteration 800: 0.421883\n",
      "Dev cost afer iteration 800: 0.317075\n",
      "Cost after iteration 900: 0.404800\n",
      "Dev cost afer iteration 900: 0.309386\n",
      "Cost after iteration 1000: 0.396245\n",
      "Dev cost afer iteration 1000: 0.303831\n",
      "Cost after iteration 1100: 0.378893\n",
      "Dev cost afer iteration 1100: 0.297533\n",
      "Cost after iteration 1200: 0.375056\n",
      "Dev cost afer iteration 1200: 0.293653\n",
      "Cost after iteration 1300: 0.368869\n",
      "Dev cost afer iteration 1300: 0.290230\n",
      "Cost after iteration 1400: 0.351931\n",
      "Dev cost afer iteration 1400: 0.285010\n",
      "Cost after iteration 1500: 0.343327\n",
      "Dev cost afer iteration 1500: 0.282024\n",
      "Cost after iteration 1600: 0.360893\n",
      "Dev cost afer iteration 1600: 0.285348\n",
      "Cost after iteration 1700: 0.330125\n",
      "Dev cost afer iteration 1700: 0.277550\n",
      "Cost after iteration 1800: 0.333946\n",
      "Dev cost afer iteration 1800: 0.277909\n",
      "Cost after iteration 1900: 0.323174\n",
      "Dev cost afer iteration 1900: 0.274936\n",
      "Cost after iteration 2000: 0.316533\n",
      "Dev cost afer iteration 2000: 0.273447\n",
      "Cost after iteration 2100: 0.310357\n",
      "Dev cost afer iteration 2100: 0.272019\n",
      "Cost after iteration 2200: 0.304691\n",
      "Dev cost afer iteration 2200: 0.271097\n",
      "Cost after iteration 2300: 0.296455\n",
      "Dev cost afer iteration 2300: 0.269885\n",
      "Cost after iteration 2400: 0.291378\n",
      "Dev cost afer iteration 2400: 0.268732\n",
      "Cost after iteration 2500: 0.306218\n",
      "Dev cost afer iteration 2500: 0.274548\n",
      "Cost after iteration 2600: 0.254140\n",
      "Dev cost afer iteration 2600: 0.258503\n",
      "Cost after iteration 2700: 0.243905\n",
      "Dev cost afer iteration 2700: 0.258599\n",
      "Cost after iteration 2800: 0.298450\n",
      "Dev cost afer iteration 2800: 0.271880\n",
      "Cost after iteration 2900: 0.210087\n",
      "Dev cost afer iteration 2900: 0.252561\n",
      "Predicting train set....\n",
      "Accuracy: 0.9308855291576673\n",
      "\n",
      "Predicting test set....\n",
      "Accuracy: 0.8793969849246233\n",
      "\n",
      "Predicting dev set....\n",
      "Accuracy: 0.8690476190476188\n"
     ]
    },
    {
     "data": {
      "image/png": "[encoded data removed]",
      "text/plain": [
       "<Figure size 432x288 with 1 Axes>"
      ]
     },
     "metadata": {
      "needs_background": "light"
     },
     "output_type": "display_data"
    }
   ],
   "source": [
    "#layers_dims = [27360, 20, 15, 4, 7, 5, 1]\n",
    "\n",
    "parameters = L_layer_model(train_x, train_y, {\"x\": dev_x, \"y\": dev_y} , layers_dims, learning_rate = 0.003, num_iterations = 3000)\n",
    "\n",
    "print(\"Predicting train set....\")\n",
    "predictions_train = predict(train_x, train_y, parameters)\n",
    "\n",
    "print(\"\\nPredicting test set....\")\n",
    "predictions_test = predict(test_x, test_y, parameters)\n",
    "\n",
    "print(\"\\nPredicting dev set....\")\n",
    "predictions_dev = predict(dev_x, dev_y, parameters)\n"
   ]
  },
  {
   "cell_type": "markdown",
   "metadata": {},
   "source": [
    "Let's try to get the set to perform even better on the test set, let's try a bigger network"
   ]
  },
  {
   "cell_type": "code",
   "execution_count": 9,
   "metadata": {},
   "outputs": [
    {
     "name": "stdout",
     "output_type": "stream",
     "text": [
      "Working with network structure: [27360, 30, 18, 15, 7, 5, 1]\n",
      "Learning rate: 0.009\n",
      "Number of iterations: 1000\n",
      "Cost after iteration 0: 0.694830\n",
      "Dev cost afer iteration 0: 0.660929\n",
      "Cost after iteration 100: 0.574020\n",
      "Dev cost afer iteration 100: 0.595581\n",
      "Cost after iteration 200: 0.556104\n",
      "Dev cost afer iteration 200: 0.613799\n",
      "Cost after iteration 300: 0.578502\n",
      "Dev cost afer iteration 300: 0.571232\n",
      "Cost after iteration 400: 0.498395\n",
      "Dev cost afer iteration 400: 0.512364\n",
      "Cost after iteration 500: 0.565365\n",
      "Dev cost afer iteration 500: 0.584831\n",
      "Cost after iteration 600: 0.533699\n",
      "Dev cost afer iteration 600: 0.462784\n",
      "Cost after iteration 700: 0.535624\n",
      "Dev cost afer iteration 700: 0.523367\n",
      "Cost after iteration 800: 0.494731\n",
      "Dev cost afer iteration 800: 0.651876\n",
      "Cost after iteration 900: 0.547957\n",
      "Dev cost afer iteration 900: 0.592790\n",
      "Predicting train set....\n",
      "Accuracy: 0.693304535637149\n",
      "\n",
      "Predicting test set....\n",
      "Accuracy: 0.6582914572864322\n",
      "\n",
      "Predicting dev set....\n",
      "Accuracy: 0.5595238095238093\n"
     ]
    },
    {
     "data": {
      "image/png": "[encoded data removed]",
      "text/plain": [
       "<Figure size 432x288 with 1 Axes>"
      ]
     },
     "metadata": {
      "needs_background": "light"
     },
     "output_type": "display_data"
    }
   ],
   "source": [
    "layers_dims = [27360, 7, 5, 1]\n",
    "\n",
    "parameters = L_layer_model(train_x, train_y, {\"x\": dev_x, \"y\": dev_y} , layers_dims, learning_rate = 0.009, num_iterations = 1000)\n",
    "\n",
    "print(\"Predicting train set....\")\n",
    "predictions_train = predict(train_x, train_y, parameters)\n",
    "\n",
    "print(\"\\nPredicting test set....\")\n",
    "predictions_test = predict(test_x, test_y, parameters)\n",
    "\n",
    "print(\"\\nPredicting dev set....\")\n",
    "predictions_dev = predict(dev_x, dev_y, parameters)\n",
    "\n"
   ]
  },
  {
   "cell_type": "code",
   "execution_count": null,
   "metadata": {},
   "outputs": [],
   "source": []
  }
 ],
 "metadata": {
  "coursera": {
   "course_slug": "neural-networks-deep-learning",
   "graded_item_id": "c4HO0",
   "launcher_item_id": "lSYZM"
  },
  "kernelspec": {
   "display_name": "Python 3",
   "language": "python",
   "name": "python3"
  },
  "language_info": {
   "codemirror_mode": {
    "name": "ipython",
    "version": 3
   },
   "file_extension": ".py",
   "mimetype": "text/x-python",
   "name": "python",
   "nbconvert_exporter": "python",
   "pygments_lexer": "ipython3",
   "version": "3.7.4"
  }
 },
 "nbformat": 4,
 "nbformat_minor": 1
}
